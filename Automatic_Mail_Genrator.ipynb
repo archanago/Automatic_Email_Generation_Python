{
 "cells": [
  {
   "cell_type": "code",
   "execution_count": 7,
   "metadata": {},
   "outputs": [],
   "source": [
    "# OS dependencies\n",
    "import os\n",
    "\n",
    "#Template dependency\n",
    "from string import Template\n",
    "\n",
    "# email dependencies\n",
    "import smtplib\n",
    "from email.mime.multipart import MIMEMultipart"
   ]
  },
  {
   "cell_type": "code",
   "execution_count": 8,
   "metadata": {},
   "outputs": [],
   "source": [
    "'''\n",
    "The list of contacts are read into two lists:\n",
    "names: reads the list of all names from "Contacts.txt" file\n",
    "emails: reads the corresponding list of emailIDs from "Contacts.txt" file\n",
    "'''\n",
     "\n"  , 
    "#function to read contacts and return list of names and email addresses\n",
    "def get_contacts(filename):\n",
    "    names= []\n",
    "    emails = []\n",
    "    with open(filename, mode = 'r', encoding = 'utf-8' ) as contacts_file:\n",
    "        for contact in contacts_file:\n",
    "            names.append(contact.split()[0])\n",
    "            emails.append(contact.split()[1])\n",
    "    # return list of all names and emails\n",
    "    return names, emails\n",
    "\n",
    "'''\n",
    "The message is read as a Template Object\n",
    "The message Template Object is returned to the calling function\n",
    "'''\n",
     "\n",  
    "#function to read template file like message.txt and return template object from its contents\n",
    "def read_template(filename):\n",
    "    with open(filename, 'r', encoding = 'utf-8') as template_file:\n",
    "        template_file_content = template_file.read()\n",
    "    # return message template object\n",
    "    return Template(template_file_content)"
   ]
  },
  {
   "cell_type": "code",
   "execution_count": null,
   "metadata": {},
   "outputs": [],
   "source": [
    "'''\n",
    "Give parameters for establishing connection with our Server\n",
    "Give Port as 587\n",
    "'''\n",
     "\n",  
    "# email connection\n",
    "SERVER = \"smtp.gmail.com\" # Replace with domain name of respective providers\n",
    "PORT = 587\n",
    "FROM = \"your_mail_id\" # Replace it with our mail ID\n",
    "# It is always safe to ask the user to input password, rather than hard-coding it inside the program\n",
    "PASSWORD = input('Please provide your Password and press Enter:')"
   ]
  },
  {
   "cell_type": "code",
   "execution_count": null,
   "metadata": {},
   "outputs": [],
   "source": [
    "names, emails = get_contacts('Contacts.txt')\n",
    "message_template = read_template('Message.html')"
   ]
  },
  {
   "cell_type": "code",
   "execution_count": null,
   "metadata": {},
   "outputs": [],
   "source": [
    "'''\n",
    "Try establishing connection with our server using given parameters \n",
    "Use proper exception handling to avoid abrupt stopping of the program, to display relevant error message to the user\n",
    "'''\n",
     "\n",  
    "# Establishing Connection with server\n",
    "try:\n",
    "    server = smtplib.SMTP(SERVER,PORT)\n",
    "    server.ehlo()\n",
    "    server.starttls()\n",
    "    server.ehlo()\n",
    "    server.login(FROM, PASSWORD)\n",
    "except Exception as e:\n",
    "    print(\"The following error occured:\")\n",
    "    print(e)"
   ]
  },
  {
   "cell_type": "code",
   "execution_count": null,
   "metadata": {},
   "outputs": [],
   "source": [
    "'''\n",
    "The email is generated\n",
    "Create message container for each contact on our list \n",
    "Substitute the template string $Name with the actual name of the person \n",
    "Add From, To addresses and final message to the container \n",
    "Finally send message \n",
    "'''\n",
     "\n",  
    "# For each contact, send the email:\n",
    "for name, email in zip(names, emails):\n",
    "    # create a message container\n",
    "    msg = MIMEMultipart()\n",
    "                \n",
    "    # add in the actual person name to the message template\n",
    "    message = message_template.substitute(PERSON_NAME=name.title())\n",
    "                                     \n",
    "    # setup the parameters of the message\n",
    "    msg['From']=FROM\n",
    "    msg['To']=email\n",
    "    msg['Subject']=\"Test Mail\"\n",
    "\n",
    "    # add in the message body\n",
    "    msg.attach(MIMEText(message))\n",
    "\n",
    "    # send the message via the server set up earlier.\n",
    "    server.send_message(msg)\n",
    "    \n",
    "# Aborting connection with the server once mails are sent\n",
    "server.quit()"
   ]
  }
 ],
 "metadata": {
  "kernelspec": {
   "display_name": "Python 3",
   "language": "python",
   "name": "python3"
  },
  "language_info": {
   "codemirror_mode": {
    "name": "ipython",
    "version": 3
   },
   "file_extension": ".py",
   "mimetype": "text/x-python",
   "name": "python",
   "nbconvert_exporter": "python",
   "pygments_lexer": "ipython3",
   "version": "3.6.4"
  }
 },
 "nbformat": 4,
 "nbformat_minor": 2
}

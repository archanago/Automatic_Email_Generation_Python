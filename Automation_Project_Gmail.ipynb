{
 "cells": [
  {
   "cell_type": "code",
   "execution_count": 2,
   "metadata": {},
   "outputs": [],
   "source": [
    "# OS dependencies\n",
    "import os\n",
    "\n",
    "#Template dependency\n",
    "from string import Template\n",
    "\n",
    "# email dependencies\n",
    "import smtplib\n",
    "from email.mime.multipart import MIMEMultipart"
   ]
  },
  {
   "cell_type": "code",
   "execution_count": 3,
   "metadata": {},
   "outputs": [],
   "source": [
    "#function to read contacts and return list of names and email addresses\n",
    "\n",
    "def get_contacts(filename):\n",
    "    names= []\n",
    "    emails = []\n",
    "    with open(filename, mode = 'r', encoding = 'utf-8' ) as contacts_file:\n",
    "        for contact in contacts_file:\n",
    "            names.append(contact.split()[0])\n",
    "            emails.append(contact.split()[1])\n",
    "    # return list of all names and emails\n",
    "    return names, emails\n",
    "\n",
    "#function to read template file like message.txt and return template object from its contents\n",
    "def read_template(filename):\n",
    "    with open(filename, 'r', encoding = 'utf-8') as template_file:\n",
    "        template_file_content = template_file.read()\n",
    "    # retutn message template object\n",
    "    return Template(template_file_content)"
   ]
  },
  {
   "cell_type": "code",
   "execution_count": 5,
   "metadata": {},
   "outputs": [
    {
     "name": "stdout",
     "output_type": "stream",
     "text": [
      "Please enter your Password and press Enter:chIlkrOcks#159\n"
     ]
    }
   ],
   "source": [
    "# email connection\n",
    "SERVER = \"smtp.gmail.com\"\n",
    "PORT = 587\n",
    "FROM = \"archana.godaba@capgemini.com\" # Replace it with our mail ID\n",
    "# It is always safe to ask the user to input password, ather than hard-coding it inside the program\n",
    "PASSWORD = input('Please enter your Password and press Enter:')"
   ]
  },
  {
   "cell_type": "code",
   "execution_count": 6,
   "metadata": {},
   "outputs": [
    {
     "ename": "FileNotFoundError",
     "evalue": "[Errno 2] No such file or directory: 'Contacts.txt'",
     "output_type": "error",
     "traceback": [
      "\u001b[1;31m---------------------------------------------------------------------------\u001b[0m",
      "\u001b[1;31mFileNotFoundError\u001b[0m                         Traceback (most recent call last)",
      "\u001b[1;32m<ipython-input-6-567b32b5daf0>\u001b[0m in \u001b[0;36m<module>\u001b[1;34m()\u001b[0m\n\u001b[1;32m----> 1\u001b[1;33m \u001b[0mnames\u001b[0m\u001b[1;33m,\u001b[0m \u001b[0memails\u001b[0m \u001b[1;33m=\u001b[0m \u001b[0mget_contacts\u001b[0m\u001b[1;33m(\u001b[0m\u001b[1;34m'Contacts.txt'\u001b[0m\u001b[1;33m)\u001b[0m\u001b[1;33m\u001b[0m\u001b[0m\n\u001b[0m\u001b[0;32m      2\u001b[0m \u001b[0mmessage_template\u001b[0m \u001b[1;33m=\u001b[0m \u001b[0mread_template\u001b[0m\u001b[1;33m(\u001b[0m\u001b[1;34m'Message.html'\u001b[0m\u001b[1;33m)\u001b[0m\u001b[1;33m\u001b[0m\u001b[0m\n",
      "\u001b[1;32m<ipython-input-3-7c3a37b7f8a6>\u001b[0m in \u001b[0;36mget_contacts\u001b[1;34m(filename)\u001b[0m\n\u001b[0;32m      4\u001b[0m     \u001b[0mnames\u001b[0m\u001b[1;33m=\u001b[0m \u001b[1;33m[\u001b[0m\u001b[1;33m]\u001b[0m\u001b[1;33m\u001b[0m\u001b[0m\n\u001b[0;32m      5\u001b[0m     \u001b[0memails\u001b[0m \u001b[1;33m=\u001b[0m \u001b[1;33m[\u001b[0m\u001b[1;33m]\u001b[0m\u001b[1;33m\u001b[0m\u001b[0m\n\u001b[1;32m----> 6\u001b[1;33m     \u001b[1;32mwith\u001b[0m \u001b[0mopen\u001b[0m\u001b[1;33m(\u001b[0m\u001b[0mfilename\u001b[0m\u001b[1;33m,\u001b[0m \u001b[0mmode\u001b[0m \u001b[1;33m=\u001b[0m \u001b[1;34m'r'\u001b[0m\u001b[1;33m,\u001b[0m \u001b[0mencoding\u001b[0m \u001b[1;33m=\u001b[0m \u001b[1;34m'utf-8'\u001b[0m \u001b[1;33m)\u001b[0m \u001b[1;32mas\u001b[0m \u001b[0mcontacts_file\u001b[0m\u001b[1;33m:\u001b[0m\u001b[1;33m\u001b[0m\u001b[0m\n\u001b[0m\u001b[0;32m      7\u001b[0m         \u001b[1;32mfor\u001b[0m \u001b[0mcontact\u001b[0m \u001b[1;32min\u001b[0m \u001b[0mcontacts_file\u001b[0m\u001b[1;33m:\u001b[0m\u001b[1;33m\u001b[0m\u001b[0m\n\u001b[0;32m      8\u001b[0m             \u001b[0mnames\u001b[0m\u001b[1;33m.\u001b[0m\u001b[0mappend\u001b[0m\u001b[1;33m(\u001b[0m\u001b[0mcontact\u001b[0m\u001b[1;33m.\u001b[0m\u001b[0msplit\u001b[0m\u001b[1;33m(\u001b[0m\u001b[1;33m)\u001b[0m\u001b[1;33m[\u001b[0m\u001b[1;36m0\u001b[0m\u001b[1;33m]\u001b[0m\u001b[1;33m)\u001b[0m\u001b[1;33m\u001b[0m\u001b[0m\n",
      "\u001b[1;31mFileNotFoundError\u001b[0m: [Errno 2] No such file or directory: 'Contacts.txt'"
     ]
    }
   ],
   "source": [
    "names, emails = get_contacts('Contacts.txt')\n",
    "message_template = read_template('Message.html')"
   ]
  },
  {
   "cell_type": "code",
   "execution_count": 1,
   "metadata": {},
   "outputs": [
    {
     "name": "stdout",
     "output_type": "stream",
     "text": [
      "The following error occured:\n",
      "name 'smtplib' is not defined\n"
     ]
    },
    {
     "ename": "NameError",
     "evalue": "name 'names' is not defined",
     "output_type": "error",
     "traceback": [
      "\u001b[1;31m---------------------------------------------------------------------------\u001b[0m",
      "\u001b[1;31mNameError\u001b[0m                                 Traceback (most recent call last)",
      "\u001b[1;32m<ipython-input-1-716ee37e9dc2>\u001b[0m in \u001b[0;36m<module>\u001b[1;34m()\u001b[0m\n\u001b[0;32m     12\u001b[0m \u001b[1;33m\u001b[0m\u001b[0m\n\u001b[0;32m     13\u001b[0m \u001b[1;31m# For each contact, send the email:\u001b[0m\u001b[1;33m\u001b[0m\u001b[1;33m\u001b[0m\u001b[0m\n\u001b[1;32m---> 14\u001b[1;33m \u001b[1;32mfor\u001b[0m \u001b[0mname\u001b[0m\u001b[1;33m,\u001b[0m \u001b[0memail\u001b[0m \u001b[1;32min\u001b[0m \u001b[0mzip\u001b[0m\u001b[1;33m(\u001b[0m\u001b[0mnames\u001b[0m\u001b[1;33m,\u001b[0m \u001b[0memails\u001b[0m\u001b[1;33m)\u001b[0m\u001b[1;33m:\u001b[0m\u001b[1;33m\u001b[0m\u001b[0m\n\u001b[0m\u001b[0;32m     15\u001b[0m     \u001b[1;31m# create a message container\u001b[0m\u001b[1;33m\u001b[0m\u001b[1;33m\u001b[0m\u001b[0m\n\u001b[0;32m     16\u001b[0m     \u001b[0mmsg\u001b[0m \u001b[1;33m=\u001b[0m \u001b[0mMIMEMultipart\u001b[0m\u001b[1;33m(\u001b[0m\u001b[1;33m)\u001b[0m\u001b[1;33m\u001b[0m\u001b[0m\n",
      "\u001b[1;31mNameError\u001b[0m: name 'names' is not defined"
     ]
    }
   ],
   "source": [
    "    # Establishing Connection with server\n",
    "    try:\n",
    "        server = smtplib.SMTP(SERVER,PORT)\n",
    "        server.ehlo()\n",
    "        server.starttls()\n",
    "        server.ehlo()\n",
    "        server.login(FROM, PASSWORD)\n",
    "    except Exception as e:\n",
    "        print(\"The following error occured:\")\n",
    "        print(e)\n",
    "        \n",
    "    \n",
    "    # For each contact, send the email:\n",
    "    for name, email in zip(names, emails):\n",
    "        # create a message container\n",
    "        msg = MIMEMultipart()\n",
    "                \n",
    "        # add in the actual person name to the message template\n",
    "        message = message_template.substitute(PERSON_NAME=name.title())\n",
    "                                     \n",
    "        # setup the parameters of the message\n",
    "        msg['From']=FROM\n",
    "        msg['To']=email\n",
    "        msg['Subject']=\"Currency Report\"\n",
    "\n",
    "        # add in the message body\n",
    "        msg.attach(MIMEText(message))\n",
    "\n",
    "        # send the message via the server set up earlier.\n",
    "        server.send_message(msg)\n",
    "    \n",
    "    # Aborting connection with the server once mails are sent\n",
    "    server.quit()"
   ]
  },
  {
   "cell_type": "code",
   "execution_count": null,
   "metadata": {},
   "outputs": [],
   "source": []
  }
 ],
 "metadata": {
  "kernelspec": {
   "display_name": "Python 3",
   "language": "python",
   "name": "python3"
  },
  "language_info": {
   "codemirror_mode": {
    "name": "ipython",
    "version": 3
   },
   "file_extension": ".py",
   "mimetype": "text/x-python",
   "name": "python",
   "nbconvert_exporter": "python",
   "pygments_lexer": "ipython3",
   "version": "3.6.4"
  }
 },
 "nbformat": 4,
 "nbformat_minor": 2
}
